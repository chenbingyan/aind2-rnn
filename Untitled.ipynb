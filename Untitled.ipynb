{
 "cells": [
  {
   "cell_type": "code",
   "execution_count": 11,
   "metadata": {
    "collapsed": true
   },
   "outputs": [],
   "source": [
    "import numpy as np"
   ]
  },
  {
   "cell_type": "code",
   "execution_count": 12,
   "metadata": {
    "collapsed": true
   },
   "outputs": [],
   "source": [
    "a = ['abc', '123', 234, ';', 'abc']"
   ]
  },
  {
   "cell_type": "code",
   "execution_count": 13,
   "metadata": {
    "collapsed": false
   },
   "outputs": [
    {
     "data": {
      "text/plain": [
       "array(['123', '234', ';', 'abc'],\n",
       "      dtype='<U3')"
      ]
     },
     "execution_count": 13,
     "metadata": {},
     "output_type": "execute_result"
    }
   ],
   "source": [
    "np.unique(a)"
   ]
  },
  {
   "cell_type": "code",
   "execution_count": 42,
   "metadata": {
    "collapsed": true
   },
   "outputs": [],
   "source": [
    "s = \"is eyes she eclipses and predominates the whole of her sex. it was not that he felt any emotion akin to love for irene adler. all emotions, and that one particularly, were abhorrent to his cold, precise but admirably balanced mind. he was, i take it, the most perfect reasoning and observing machine that the world has seen, but as a lover he would have placed himself in a false position. he never spoke of the softer passions, save with a gibe and a sneer. they were admirable things for the observer--excellent for drawing the veil from men's motives and actions. but for the trained reasoner to admit such intrusions into his own delicate and finely adjusted temperament was to introduce a distracting factor which might throw a doubt upon all his mental results.\""
   ]
  },
  {
   "cell_type": "code",
   "execution_count": 43,
   "metadata": {
    "collapsed": false
   },
   "outputs": [
    {
     "data": {
      "text/plain": [
       "\"is eyes she eclipses and predominates the whole of her sex. it was not that he felt any emotion akin to love for irene adler. all emotions, and that one particularly, were abhorrent to his cold, precise but admirably balanced mind. he was, i take it, the most perfect reasoning and observing machine that the world has seen, but as a lover he would have placed himself in a false position. he never spoke of the softer passions, save with a gibe and a sneer. they were admirable things for the observer--excellent for drawing the veil from men's motives and actions. but for the trained reasoner to admit such intrusions into his own delicate and finely adjusted temperament was to introduce a distracting factor which might throw a doubt upon all his mental results.\""
      ]
     },
     "execution_count": 43,
     "metadata": {},
     "output_type": "execute_result"
    }
   ],
   "source": [
    "s"
   ]
  },
  {
   "cell_type": "code",
   "execution_count": 29,
   "metadata": {
    "collapsed": true
   },
   "outputs": [],
   "source": [
    "punctuation = ['!', ',', '.', ':', ';', '?']"
   ]
  },
  {
   "cell_type": "code",
   "execution_count": 30,
   "metadata": {
    "collapsed": false
   },
   "outputs": [
    {
     "ename": "NameError",
     "evalue": "name 'lower' is not defined",
     "output_type": "error",
     "traceback": [
      "\u001b[0;31m---------------------------------------------------------------------------\u001b[0m",
      "\u001b[0;31mNameError\u001b[0m                                 Traceback (most recent call last)",
      "\u001b[0;32m<ipython-input-30-d759f3c22708>\u001b[0m in \u001b[0;36m<module>\u001b[0;34m()\u001b[0m\n\u001b[1;32m      4\u001b[0m         \u001b[1;32mcontinue\u001b[0m\u001b[1;33m\u001b[0m\u001b[0m\n\u001b[1;32m      5\u001b[0m     \u001b[1;32melse\u001b[0m\u001b[1;33m:\u001b[0m\u001b[1;33m\u001b[0m\u001b[0m\n\u001b[0;32m----> 6\u001b[0;31m         \u001b[0mss\u001b[0m\u001b[1;33m.\u001b[0m\u001b[0mappend\u001b[0m\u001b[1;33m(\u001b[0m\u001b[0mlower\u001b[0m\u001b[1;33m(\u001b[0m\u001b[0mi\u001b[0m\u001b[1;33m)\u001b[0m\u001b[1;33m)\u001b[0m\u001b[1;33m\u001b[0m\u001b[0m\n\u001b[0m",
      "\u001b[0;31mNameError\u001b[0m: name 'lower' is not defined"
     ]
    }
   ],
   "source": [
    "ss = []\n",
    "for i in s:\n",
    "    if i in punctuation:\n",
    "        continue\n",
    "    else:\n",
    "        ss.append(lower(i))"
   ]
  },
  {
   "cell_type": "code",
   "execution_count": 26,
   "metadata": {
    "collapsed": false
   },
   "outputs": [
    {
     "data": {
      "text/plain": [
       "array([' ', \"'\", '-', 'a', 'b', 'c', 'd', 'e', 'f', 'g', 'h', 'i', 'j',\n",
       "       'k', 'l', 'm', 'n', 'o', 'p', 'r', 's', 't', 'u', 'v', 'w', 'x', 'y'],\n",
       "      dtype='<U1')"
      ]
     },
     "execution_count": 26,
     "metadata": {},
     "output_type": "execute_result"
    }
   ],
   "source": [
    "np.unique(ss)"
   ]
  },
  {
   "cell_type": "code",
   "execution_count": 37,
   "metadata": {
    "collapsed": false
   },
   "outputs": [
    {
     "name": "stdout",
     "output_type": "stream",
     "text": [
      "a\n",
      "b\n",
      "c\n",
      "d\n",
      "e\n",
      "f\n",
      "g\n",
      "h\n",
      "i\n",
      "j\n",
      "k\n",
      "l\n",
      "m\n",
      "n\n",
      "o\n",
      "p\n",
      "q\n",
      "r\n",
      "s\n",
      "t\n",
      "u\n",
      "v\n",
      "w\n",
      "x\n",
      "y\n",
      "z\n"
     ]
    }
   ],
   "source": [
    "for l in range(97, 123, 1):\n",
    "    print(chr(l))"
   ]
  },
  {
   "cell_type": "code",
   "execution_count": 39,
   "metadata": {
    "collapsed": false
   },
   "outputs": [],
   "source": [
    "letters = [chr(l) for l in range(97, 123, 1)] + [' ']"
   ]
  },
  {
   "cell_type": "code",
   "execution_count": 40,
   "metadata": {
    "collapsed": false
   },
   "outputs": [
    {
     "data": {
      "text/plain": [
       "['a',\n",
       " 'b',\n",
       " 'c',\n",
       " 'd',\n",
       " 'e',\n",
       " 'f',\n",
       " 'g',\n",
       " 'h',\n",
       " 'i',\n",
       " 'j',\n",
       " 'k',\n",
       " 'l',\n",
       " 'm',\n",
       " 'n',\n",
       " 'o',\n",
       " 'p',\n",
       " 'q',\n",
       " 'r',\n",
       " 's',\n",
       " 't',\n",
       " 'u',\n",
       " 'v',\n",
       " 'w',\n",
       " 'x',\n",
       " 'y',\n",
       " 'z',\n",
       " ' ']"
      ]
     },
     "execution_count": 40,
     "metadata": {},
     "output_type": "execute_result"
    }
   ],
   "source": [
    "letters"
   ]
  },
  {
   "cell_type": "code",
   "execution_count": 82,
   "metadata": {
    "collapsed": true
   },
   "outputs": [],
   "source": [
    "def window_transform_text(text, window_size, step_size):\n",
    "    # containers for input/output pairs\n",
    "    inputs = []\n",
    "    outputs = []\n",
    "    for t in range(0, len(text) - window_size, step_size):\n",
    "        ipt = []\n",
    "        i = 0\n",
    "        while i < window_size:\n",
    "            ipt.append(text[t + i])\n",
    "            i += 1\n",
    "        inputs.append(\"\".join(ipt))\n",
    "        outputs.append(text[t + i])\n",
    "    return inputs,outputs"
   ]
  },
  {
   "cell_type": "code",
   "execution_count": 83,
   "metadata": {
    "collapsed": false
   },
   "outputs": [],
   "source": [
    "inputs, outputs = window_transform_text(s, 10, 5)"
   ]
  },
  {
   "cell_type": "code",
   "execution_count": 84,
   "metadata": {
    "collapsed": false
   },
   "outputs": [
    {
     "data": {
      "text/plain": [
       "['is eyes sh',\n",
       " 'es she ecl',\n",
       " 'e eclipses',\n",
       " 'ipses and ',\n",
       " ' and predo',\n",
       " 'predominat',\n",
       " 'minates th',\n",
       " 'es the who',\n",
       " 'e whole of',\n",
       " 'le of her ',\n",
       " ' her sex. ',\n",
       " 'sex. it wa',\n",
       " 'it was not',\n",
       " 's not that',\n",
       " ' that he f',\n",
       " ' he felt a',\n",
       " 'elt any em',\n",
       " 'ny emotion',\n",
       " 'otion akin',\n",
       " ' akin to l',\n",
       " ' to love f',\n",
       " 'ove for ir',\n",
       " 'or irene a',\n",
       " 'ene adler.',\n",
       " 'dler. all ',\n",
       " ' all emoti',\n",
       " 'emotions, ',\n",
       " 'ons, and t',\n",
       " 'and that o',\n",
       " 'hat one pa',\n",
       " 'ne particu',\n",
       " 'rticularly',\n",
       " 'larly, wer',\n",
       " ', were abh',\n",
       " 'e abhorren',\n",
       " 'orrent to ',\n",
       " 't to his c',\n",
       " 'his cold, ',\n",
       " 'old, preci',\n",
       " 'precise bu',\n",
       " 'se but adm',\n",
       " 't admirabl',\n",
       " 'irably bal',\n",
       " 'y balanced',\n",
       " 'anced mind',\n",
       " ' mind. he ',\n",
       " '. he was, ',\n",
       " 'was, i tak',\n",
       " 'i take it,',\n",
       " 'e it, the ',\n",
       " ' the most ',\n",
       " 'most perfe',\n",
       " 'perfect re',\n",
       " 'ct reasoni',\n",
       " 'asoning an',\n",
       " 'ng and obs',\n",
       " 'd observin',\n",
       " 'erving mac',\n",
       " 'g machine ',\n",
       " 'hine that ',\n",
       " 'that the w',\n",
       " 'the world ',\n",
       " 'orld has s',\n",
       " 'has seen, ',\n",
       " 'een, but a',\n",
       " 'but as a l',\n",
       " 's a lover ',\n",
       " 'over he wo',\n",
       " 'he would h',\n",
       " 'uld have p',\n",
       " 'ave placed',\n",
       " 'laced hims',\n",
       " ' himself i',\n",
       " 'elf in a f',\n",
       " 'n a false ',\n",
       " 'alse posit',\n",
       " 'position. ',\n",
       " 'ion. he ne',\n",
       " 'he never s',\n",
       " 'ver spoke ',\n",
       " 'poke of th',\n",
       " 'of the sof',\n",
       " 'e softer p',\n",
       " 'ter passio',\n",
       " 'assions, s',\n",
       " 'ns, save w',\n",
       " 'ave with a',\n",
       " 'ith a gibe',\n",
       " ' gibe and ',\n",
       " ' and a sne',\n",
       " 'a sneer. t',\n",
       " 'er. they w',\n",
       " 'hey were a',\n",
       " 'ere admira',\n",
       " 'dmirable t',\n",
       " 'ble things',\n",
       " 'hings for ',\n",
       " ' for the o',\n",
       " 'the observ',\n",
       " 'bserver--e',\n",
       " 'er--excell',\n",
       " 'xcellent f',\n",
       " 'ent for dr',\n",
       " 'or drawing',\n",
       " 'awing the ',\n",
       " ' the veil ',\n",
       " 'veil from ',\n",
       " \"from men's\",\n",
       " \"men's moti\",\n",
       " ' motives a',\n",
       " 'ves and ac',\n",
       " 'nd actions',\n",
       " 'tions. but',\n",
       " '. but for ',\n",
       " ' for the t',\n",
       " 'the traine',\n",
       " 'rained rea',\n",
       " 'd reasoner',\n",
       " 'soner to a',\n",
       " ' to admit ',\n",
       " 'dmit such ',\n",
       " 'such intru',\n",
       " 'intrusions',\n",
       " 'sions into',\n",
       " ' into his ',\n",
       " ' his own d',\n",
       " 'own delica',\n",
       " 'elicate an',\n",
       " 'te and fin',\n",
       " 'd finely a',\n",
       " 'ely adjust',\n",
       " 'djusted te',\n",
       " 'ed tempera',\n",
       " 'mperament ',\n",
       " 'ment was t',\n",
       " 'was to int',\n",
       " 'o introduc',\n",
       " 'roduce a d',\n",
       " 'e a distra',\n",
       " 'istracting',\n",
       " 'cting fact',\n",
       " ' factor wh',\n",
       " 'or which m',\n",
       " 'ich might ',\n",
       " 'ight throw',\n",
       " 'throw a do',\n",
       " ' a doubt u',\n",
       " 'ubt upon a',\n",
       " 'pon all hi',\n",
       " 'll his men',\n",
       " 's mental r',\n",
       " 'tal result']"
      ]
     },
     "execution_count": 84,
     "metadata": {},
     "output_type": "execute_result"
    }
   ],
   "source": [
    "inputs"
   ]
  },
  {
   "cell_type": "code",
   "execution_count": 85,
   "metadata": {
    "collapsed": false
   },
   "outputs": [
    {
     "data": {
      "text/plain": [
       "['e',\n",
       " 'i',\n",
       " ' ',\n",
       " 'p',\n",
       " 'm',\n",
       " 'e',\n",
       " 'e',\n",
       " 'l',\n",
       " ' ',\n",
       " 's',\n",
       " 'i',\n",
       " 's',\n",
       " ' ',\n",
       " ' ',\n",
       " 'e',\n",
       " 'n',\n",
       " 'o',\n",
       " ' ',\n",
       " ' ',\n",
       " 'o',\n",
       " 'o',\n",
       " 'e',\n",
       " 'd',\n",
       " ' ',\n",
       " 'e',\n",
       " 'o',\n",
       " 'a',\n",
       " 'h',\n",
       " 'n',\n",
       " 'r',\n",
       " 'l',\n",
       " ',',\n",
       " 'e',\n",
       " 'o',\n",
       " 't',\n",
       " 'h',\n",
       " 'o',\n",
       " 'p',\n",
       " 's',\n",
       " 't',\n",
       " 'i',\n",
       " 'y',\n",
       " 'a',\n",
       " ' ',\n",
       " '.',\n",
       " 'w',\n",
       " 'i',\n",
       " 'e',\n",
       " ' ',\n",
       " 'm',\n",
       " 'p',\n",
       " 'c',\n",
       " 'a',\n",
       " 'n',\n",
       " 'd',\n",
       " 'e',\n",
       " 'g',\n",
       " 'h',\n",
       " 't',\n",
       " 't',\n",
       " 'o',\n",
       " 'h',\n",
       " 'e',\n",
       " 'b',\n",
       " 's',\n",
       " 'o',\n",
       " 'h',\n",
       " 'u',\n",
       " 'a',\n",
       " 'l',\n",
       " ' ',\n",
       " 'e',\n",
       " 'n',\n",
       " 'a',\n",
       " 'p',\n",
       " 'i',\n",
       " 'h',\n",
       " 'v',\n",
       " 'p',\n",
       " 'o',\n",
       " 'e',\n",
       " 't',\n",
       " 'a',\n",
       " 'n',\n",
       " 'a',\n",
       " 'i',\n",
       " ' ',\n",
       " ' ',\n",
       " 'a',\n",
       " 'e',\n",
       " 'h',\n",
       " 'e',\n",
       " 'd',\n",
       " 'b',\n",
       " 'h',\n",
       " ' ',\n",
       " 't',\n",
       " 'b',\n",
       " 'e',\n",
       " 'x',\n",
       " 'e',\n",
       " 'o',\n",
       " 'a',\n",
       " ' ',\n",
       " 'v',\n",
       " 'f',\n",
       " 'm',\n",
       " ' ',\n",
       " 'v',\n",
       " 'n',\n",
       " 't',\n",
       " '.',\n",
       " ' ',\n",
       " 't',\n",
       " 'r',\n",
       " 'd',\n",
       " 's',\n",
       " ' ',\n",
       " 'd',\n",
       " 's',\n",
       " 'i',\n",
       " 's',\n",
       " ' ',\n",
       " ' ',\n",
       " 'o',\n",
       " 'e',\n",
       " 't',\n",
       " 'd',\n",
       " 'e',\n",
       " 'd',\n",
       " 'e',\n",
       " 'm',\n",
       " 'm',\n",
       " 'w',\n",
       " 'o',\n",
       " 'r',\n",
       " 'e',\n",
       " 'i',\n",
       " 'c',\n",
       " ' ',\n",
       " 'o',\n",
       " 'i',\n",
       " 'i',\n",
       " 't',\n",
       " ' ',\n",
       " 'u',\n",
       " 'p',\n",
       " 'l',\n",
       " 's',\n",
       " 't',\n",
       " 'e',\n",
       " 's']"
      ]
     },
     "execution_count": 85,
     "metadata": {},
     "output_type": "execute_result"
    }
   ],
   "source": [
    "outputs"
   ]
  },
  {
   "cell_type": "code",
   "execution_count": 86,
   "metadata": {
    "collapsed": false
   },
   "outputs": [
    {
     "data": {
      "text/plain": [
       "'e eclipses'"
      ]
     },
     "execution_count": 86,
     "metadata": {},
     "output_type": "execute_result"
    }
   ],
   "source": [
    "inputs[2]"
   ]
  },
  {
   "cell_type": "code",
   "execution_count": 87,
   "metadata": {
    "collapsed": true
   },
   "outputs": [],
   "source": [
    "chars = sorted(list(set(s)))"
   ]
  },
  {
   "cell_type": "code",
   "execution_count": 89,
   "metadata": {
    "collapsed": false
   },
   "outputs": [
    {
     "data": {
      "text/plain": [
       "{' ',\n",
       " \"'\",\n",
       " ',',\n",
       " '-',\n",
       " '.',\n",
       " 'a',\n",
       " 'b',\n",
       " 'c',\n",
       " 'd',\n",
       " 'e',\n",
       " 'f',\n",
       " 'g',\n",
       " 'h',\n",
       " 'i',\n",
       " 'j',\n",
       " 'k',\n",
       " 'l',\n",
       " 'm',\n",
       " 'n',\n",
       " 'o',\n",
       " 'p',\n",
       " 'r',\n",
       " 's',\n",
       " 't',\n",
       " 'u',\n",
       " 'v',\n",
       " 'w',\n",
       " 'x',\n",
       " 'y'}"
      ]
     },
     "execution_count": 89,
     "metadata": {},
     "output_type": "execute_result"
    }
   ],
   "source": [
    "set(s)"
   ]
  },
  {
   "cell_type": "code",
   "execution_count": null,
   "metadata": {
    "collapsed": true
   },
   "outputs": [],
   "source": []
  }
 ],
 "metadata": {
  "anaconda-cloud": {},
  "kernelspec": {
   "display_name": "Python [conda root]",
   "language": "python",
   "name": "conda-root-py"
  },
  "language_info": {
   "codemirror_mode": {
    "name": "ipython",
    "version": 3
   },
   "file_extension": ".py",
   "mimetype": "text/x-python",
   "name": "python",
   "nbconvert_exporter": "python",
   "pygments_lexer": "ipython3",
   "version": "3.5.2"
  }
 },
 "nbformat": 4,
 "nbformat_minor": 1
}
